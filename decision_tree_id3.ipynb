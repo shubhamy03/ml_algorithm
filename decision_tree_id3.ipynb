{
 "cells": [
  {
   "cell_type": "code",
   "execution_count": 1,
   "metadata": {},
   "outputs": [],
   "source": [
    "import pandas as pd\n",
    "import numpy as np"
   ]
  },
  {
   "cell_type": "code",
   "execution_count": 167,
   "metadata": {},
   "outputs": [],
   "source": [
    "dataset = pd.read_csv(r\"C:\\Users\\mt19237\\Desktop\\Untitled Folder\\ASS_4\\titanic.csv\")\n",
    "\n",
    "dataset.Fare = dataset.Fare.round()\n"
   ]
  },
  {
   "cell_type": "code",
   "execution_count": 168,
   "metadata": {},
   "outputs": [
    {
     "name": "stdout",
     "output_type": "stream",
     "text": [
      "totaL row= (887, 7)\n",
      "train data size= (886, 7) test data size= (1, 7)\n",
      "Survived\n",
      "Pclass\n",
      "Sex\n",
      "Age\n",
      "Siblings/Spouses Aboard\n",
      "Parents/Children Aboard\n",
      "Fare\n"
     ]
    }
   ],
   "source": [
    "new_data=dataset.drop(['Name'], axis = 1) \n",
    "print (\"totaL row=\",new_data.shape)\n",
    "\n",
    "\n",
    "\n",
    "new_data_train=new_data[0:dataset.shape[0]-1]\n",
    "data_test=new_data[dataset.shape[0]-1:dataset.shape[0]]\n",
    "\n",
    "print(\"train data size=\",new_data_train.shape,\"test data size=\",data_test.shape)\n",
    "new_data_train.head()\n",
    "\n",
    "for i in new_data_train.columns: \n",
    "    print(i) "
   ]
  },
  {
   "cell_type": "code",
   "execution_count": 169,
   "metadata": {},
   "outputs": [],
   "source": [
    "def entropy(target_column):\n",
    "    elements,counts = np.unique(target_column,return_counts = True)\n",
    "    #print (\"element\",elements,\"counts\",counts)\n",
    "    #print(elements)\n",
    "    #print(counts)\n",
    "    entropy = np.sum([\n",
    "        (-counts[i]/np.sum(counts))*np.log2(counts[i]/np.sum(counts)) \n",
    "        for i in range(len(elements))\n",
    "    ])\n",
    "    return entropy\n"
   ]
  },
  {
   "cell_type": "code",
   "execution_count": 170,
   "metadata": {},
   "outputs": [
    {
     "data": {
      "text/plain": [
       "5.785783274284454"
      ]
     },
     "execution_count": 170,
     "metadata": {},
     "output_type": "execute_result"
    }
   ],
   "source": [
    "ent_col={}\n",
    "entropy(new_data['Age'])\n",
    "#for i in new_data_train.columns:\n",
    "#    ent_col[i]=entropy(new_data[i])\n",
    "#print(ent_col)\n"
   ]
  },
  {
   "cell_type": "code",
   "execution_count": 171,
   "metadata": {},
   "outputs": [],
   "source": [
    "def info_gain(data,col_attr,col_target):\n",
    "\n",
    "    total_entropy = entropy(data[col_target])\n",
    "    \n",
    "    #entropy of the dataset\n",
    "    element,counts= np.unique(data[col_attr],return_counts=True)\n",
    "\n",
    "    w_entropy = np.sum([(counts[i]/np.sum(counts))*\n",
    "                               entropy(data.where(data[col_attr]==element[i]).dropna()[col_attr]) \n",
    "                               for i in range(len(element))])\n",
    "\n",
    "    inf_gain = total_entropy - w_entropy\n",
    "    return inf_gain\n",
    "       "
   ]
  },
  {
   "cell_type": "code",
   "execution_count": 172,
   "metadata": {},
   "outputs": [
    {
     "name": "stdout",
     "output_type": "stream",
     "text": [
      "Age\n",
      "{'Pclass': 1.4425737495773556, 'Sex': 0.9379379226529758, 'Age': 5.7861796800063425, 'Siblings/Spouses Aboard': 1.3429909595560678, 'Parents/Children Aboard': 1.1324734959621252, 'Fare': 5.097828597892285}\n"
     ]
    }
   ],
   "source": [
    "info_col={}\n",
    "max1=float('-inf')\n",
    "for i in new_data_train.columns:\n",
    "    if i != 'Survived':\n",
    "        info_col[i]=info_gain(new_data_train,'Survived',i)\n",
    "        if info_col[i]>=max1:\n",
    "            max1=info_col[i]\n",
    "            k=i\n",
    "print(k)\n",
    "print(info_col)"
   ]
  },
  {
   "cell_type": "code",
   "execution_count": 173,
   "metadata": {},
   "outputs": [],
   "source": [
    "#max info\n",
    "root_node=k\n"
   ]
  },
  {
   "cell_type": "code",
   "execution_count": 174,
   "metadata": {},
   "outputs": [
    {
     "name": "stdout",
     "output_type": "stream",
     "text": [
      "{'Age': {}}\n",
      "[ 0.42  0.67  0.75  0.83  0.92  1.    2.    3.    4.    5.    6.    7.\n",
      "  8.    9.   10.   11.   12.   13.   14.   14.5  15.   16.   17.   18.\n",
      " 19.   20.   20.5  21.   22.   23.   23.5  24.   24.5  25.   26.   27.\n",
      " 28.   28.5  29.   30.   30.5  31.   32.   32.5  33.   34.   34.5  35.\n",
      " 36.   36.5  37.   38.   39.   40.   40.5  41.   42.   43.   44.   45.\n",
      " 45.5  46.   47.   48.   49.   50.   51.   52.   53.   54.   55.   55.5\n",
      " 56.   57.   58.   59.   60.   61.   62.   63.   64.   65.   66.   69.\n",
      " 70.   70.5  71.   74.   80.  ] [ 1  1  2  2  1  7 11  7 11  6  3  5  6  8  2  4  2  2  7  1  5 20 16 36\n",
      " 33 23  1 34 39 25  1 34  1 24 21 26 37  2 25 33  2 19 20  2 17 17  1 21\n",
      " 23  1 12 12 18 18  2  9 17  7  9 14  2  6 10 12  8 10  7  6  1  9  3  1\n",
      "  4  3  5  2  5  3  5  2  3  3  2  1  2  1  2  1  1]\n"
     ]
    }
   ],
   "source": [
    "tree = {root_node:{}}\n",
    "print(tree)\n",
    "element,counts= np.unique(new_data_train[root_node],return_counts=True)\n",
    "print(element,counts)\n"
   ]
  },
  {
   "cell_type": "code",
   "execution_count": 175,
   "metadata": {},
   "outputs": [
    {
     "name": "stdout",
     "output_type": "stream",
     "text": [
      "['Pclass', 'Sex', 'Siblings/Spouses Aboard', 'Parents/Children Aboard', 'Fare']\n",
      "[ 0.42  0.67  0.75  0.83  0.92  1.    2.    3.    4.    5.    6.    7.\n",
      "  8.    9.   10.   11.   12.   13.   14.   14.5  15.   16.   17.   18.\n",
      " 19.   20.   20.5  21.   22.   23.   23.5  24.   24.5  25.   26.   27.\n",
      " 28.   28.5  29.   30.   30.5  31.   32.   32.5  33.   34.   34.5  35.\n",
      " 36.   36.5  37.   38.   39.   40.   40.5  41.   42.   43.   44.   45.\n",
      " 45.5  46.   47.   48.   49.   50.   51.   52.   53.   54.   55.   55.5\n",
      " 56.   57.   58.   59.   60.   61.   62.   63.   64.   65.   66.   69.\n",
      " 70.   70.5  71.   74.   80.  ]\n"
     ]
    }
   ],
   "source": [
    "other_col = [i for i in new_data_train.columns\n",
    "                 if (i != root_node and i !='Survived')\n",
    "            ]\n",
    "print(other_col)\n",
    "print(np.unique(new_data_train[root_node]))"
   ]
  },
  {
   "cell_type": "code",
   "execution_count": 187,
   "metadata": {},
   "outputs": [
    {
     "name": "stdout",
     "output_type": "stream",
     "text": [
      "Index(['Survived', 'Pclass', 'Sex', 'Age', 'Siblings/Spouses Aboard',\n",
      "       'Parents/Children Aboard', 'Fare'],\n",
      "      dtype='object')\n",
      "Fare\n",
      "Siblings/Spouses Aboard\n"
     ]
    }
   ],
   "source": [
    "sub_train_data={}\n",
    "for value in np.unique(np.unique(new_data_train[root_node])):\n",
    "    sub_train_data[value] = new_data_train.where(new_data_train[root_node] == value).dropna()\n",
    "    #print(sub_train_data[value].shape)\n",
    "\n",
    "print(sub_train_data[1].columns)\n",
    "info_col={}\n",
    "max1=float('-inf')\n",
    "k=[]\n",
    "for i in sub_train_data[1].columns:\n",
    "    if i != 'Survived':\n",
    "        info_col[i]=info_gain(sub_train_data[1],'Survived',i)\n",
    "        #print(info_col[i])\n",
    "        if info_col[i]>=max1:\n",
    "            max1=info_col[i]\n",
    "            k=i\n",
    "print(k)\n",
    "sec_level_node1=max(info_col)\n",
    "print(sec_level_node1)"
   ]
  },
  {
   "cell_type": "code",
   "execution_count": null,
   "metadata": {},
   "outputs": [],
   "source": []
  },
  {
   "cell_type": "code",
   "execution_count": null,
   "metadata": {},
   "outputs": [],
   "source": []
  },
  {
   "cell_type": "code",
   "execution_count": null,
   "metadata": {},
   "outputs": [],
   "source": []
  }
 ],
 "metadata": {
  "kernelspec": {
   "display_name": "Python 3",
   "language": "python",
   "name": "python3"
  },
  "language_info": {
   "codemirror_mode": {
    "name": "ipython",
    "version": 3
   },
   "file_extension": ".py",
   "mimetype": "text/x-python",
   "name": "python",
   "nbconvert_exporter": "python",
   "pygments_lexer": "ipython3",
   "version": "3.7.0"
  }
 },
 "nbformat": 4,
 "nbformat_minor": 2
}
