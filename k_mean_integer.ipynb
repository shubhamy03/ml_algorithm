{
 "cells": [
  {
   "cell_type": "code",
   "execution_count": 254,
   "metadata": {},
   "outputs": [],
   "source": [
    "import pandas as pd\n",
    "import numpy as np\n",
    "import math  \n",
    "\n",
    "df = pd.DataFrame({\n",
    "    'x': [12, 20, 28, 18, 29, 33, 24, 45, 45, 52, 51, 52, 55, 53, 55, 61, 64, 69, 72],\n",
    "    'y': [39, 36, 30, 52, 54,46, 55, 59, 63, 70, 66, 63, 58, 23, 14, 8, 19, 7, 24]\n",
    "})"
   ]
  },
  {
   "cell_type": "code",
   "execution_count": 255,
   "metadata": {},
   "outputs": [
    {
     "name": "stdout",
     "output_type": "stream",
     "text": [
      "20\n"
     ]
    }
   ],
   "source": [
    "df.shape\n",
    "print(df['x'][1])"
   ]
  },
  {
   "cell_type": "code",
   "execution_count": 266,
   "metadata": {},
   "outputs": [],
   "source": [
    "k=3\n",
    "c_x=[]\n",
    "c_y=[]\n",
    "dist_c=[]\n",
    "for i in range(0,k):\n",
    "    c_x.append(df['x'][i])\n",
    "    c_y.append(df['y'][i])\n",
    "    dist_c.append(0)\n"
   ]
  },
  {
   "cell_type": "code",
   "execution_count": 267,
   "metadata": {},
   "outputs": [
    {
     "data": {
      "text/plain": [
       "([12, 20, 28], [39, 36, 30])"
      ]
     },
     "execution_count": 267,
     "metadata": {},
     "output_type": "execute_result"
    }
   ],
   "source": [
    "c_x,c_y"
   ]
  },
  {
   "cell_type": "code",
   "execution_count": 268,
   "metadata": {},
   "outputs": [],
   "source": [
    "\n",
    "dist_c1=0\n",
    "dist_c2=0\n",
    "clust=[]\n",
    "temp=0\n",
    "for i in range(0,df.shape[0]):\n",
    "    for j in range(0,k):\n",
    "        dist_c[j]=math.sqrt((c_x[j]-df['x'][i])**2+(c_y[j]-df['y'][i])**2)\n",
    "    temp=min(dist_c)\n",
    "    for j in range(0,k):\n",
    "        if(temp==dist_c[j]):\n",
    "            clust.append(j)\n"
   ]
  },
  {
   "cell_type": "code",
   "execution_count": 269,
   "metadata": {},
   "outputs": [
    {
     "name": "stdout",
     "output_type": "stream",
     "text": [
      "[0, 1, 2, 0, 1, 1, 1, 2, 1, 2, 2, 2, 2, 2, 2, 2, 2, 2, 2]\n",
      "     x   y\n",
      "0   12  39\n",
      "1   20  36\n",
      "2   28  30\n",
      "3   18  52\n",
      "4   29  54\n",
      "5   33  46\n",
      "6   24  55\n",
      "7   45  59\n",
      "8   45  63\n",
      "9   52  70\n",
      "10  51  66\n",
      "11  52  63\n",
      "12  55  58\n",
      "13  53  23\n",
      "14  55  14\n",
      "15  61   8\n",
      "16  64  19\n",
      "17  69   7\n",
      "18  72  24\n"
     ]
    }
   ],
   "source": [
    "print(clust)\n",
    "print(df)"
   ]
  },
  {
   "cell_type": "code",
   "execution_count": 270,
   "metadata": {},
   "outputs": [
    {
     "name": "stdout",
     "output_type": "stream",
     "text": [
      "[0, 1, 2, 0, 1, 1, 1, 2, 1, 2, 2, 2, 2, 2, 2, 2, 2, 2, 2] 3\n",
      "[23.428571428571427, 50.0, 62.333333333333336] [44.57142857142857, 63.166666666666664, 15.833333333333334]\n"
     ]
    }
   ],
   "source": [
    "print(clust,k)\n",
    "\n",
    "def cal_median(clust):\n",
    "    c_x_n=[]\n",
    "    c_y_n=[]\n",
    "    for j in range(0,k):\n",
    "        mean_x=0\n",
    "        mean_y=0\n",
    "        count=0\n",
    "        for i in range(0,len(clust)):\n",
    "            if(clust[i]==j):\n",
    "                mean_x=mean_x+df['x'][i]\n",
    "                mean_y=mean_y+df['y'][i]\n",
    "                count=count+1\n",
    "        print('cluster:',count)\n",
    "        mean_x=mean_x/count\n",
    "        mean_y=mean_y/count\n",
    "        c_x_n.append(mean_x)\n",
    "        c_y_n.append(mean_y)\n",
    "    return c_x_n,c_y_n\n",
    "\n",
    "print(c_x_n,c_y_n)\n"
   ]
  },
  {
   "cell_type": "code",
   "execution_count": 271,
   "metadata": {},
   "outputs": [],
   "source": [
    "def update_cluster(clust,c_x_n,c_y_n):\n",
    "    for i in range(0,df.shape[0]):\n",
    "        for j in range(0,k):\n",
    "            dist_c[j]=math.sqrt((c_x_n[j]-df['x'][i])**2+(c_y_n[j]-df['y'][i])**2)\n",
    "        #print(dist_c,min(dist_c))\n",
    "        temp=min(dist_c)\n",
    "        for j in range(0,k):\n",
    "            if(temp==dist_c[j]):\n",
    "                clust.append(j)\n",
    "    return clust\n"
   ]
  },
  {
   "cell_type": "code",
   "execution_count": 272,
   "metadata": {},
   "outputs": [
    {
     "name": "stdout",
     "output_type": "stream",
     "text": [
      "cluster: 2\n",
      "cluster: 5\n",
      "cluster: 12\n",
      "[0, 1, 2, 0, 1, 1, 1, 2, 1, 2, 2, 2, 2, 2, 2, 2, 2, 2, 2]\n",
      "cluster: 4\n",
      "cluster: 8\n",
      "cluster: 7\n",
      "[0, 0, 0, 0, 1, 1, 1, 1, 1, 1, 1, 1, 2, 2, 2, 2, 2, 2, 2]\n",
      "cluster: 6\n",
      "cluster: 7\n",
      "cluster: 6\n",
      "[0, 0, 0, 0, 1, 0, 0, 1, 1, 1, 1, 1, 1, 2, 2, 2, 2, 2, 2]\n",
      "cluster: 7\n",
      "cluster: 6\n",
      "cluster: 6\n",
      "[0, 0, 0, 0, 0, 0, 0, 1, 1, 1, 1, 1, 1, 2, 2, 2, 2, 2, 2]\n"
     ]
    }
   ],
   "source": [
    "old_clust=clust\n",
    "new_clust=[]\n",
    "while old_clust!=new_clust:\n",
    "    c_x_n,c_y_n=cal_median(clust)\n",
    "    print(clust)\n",
    "    old_clust=clust\n",
    "    clust=[]\n",
    "    clust=update_cluster(clust,c_x_n,c_y_n)\n",
    "    new_clust=clust\n"
   ]
  },
  {
   "cell_type": "code",
   "execution_count": 273,
   "metadata": {},
   "outputs": [
    {
     "name": "stdout",
     "output_type": "stream",
     "text": [
      "[0, 0, 0, 0, 0, 0, 0, 1, 1, 1, 1, 1, 1, 2, 2, 2, 2, 2, 2]\n"
     ]
    },
    {
     "data": {
      "image/png": "[encoded data removed]",
      "text/plain": [
       "<Figure size 432x288 with 1 Axes>"
      ]
     },
     "metadata": {
      "needs_background": "light"
     },
     "output_type": "display_data"
    }
   ],
   "source": [
    "print(clust)\n",
    "plt.scatter(df['x'], df['y'], color='k')\n",
    "colmap = {1: 'r', 2: 'g', 3: 'b'}"
   ]
  },
  {
   "cell_type": "code",
   "execution_count": null,
   "metadata": {},
   "outputs": [],
   "source": []
  }
 ],
 "metadata": {
  "kernelspec": {
   "display_name": "Python 3",
   "language": "python",
   "name": "python3"
  },
  "language_info": {
   "codemirror_mode": {
    "name": "ipython",
    "version": 3
   },
   "file_extension": ".py",
   "mimetype": "text/x-python",
   "name": "python",
   "nbconvert_exporter": "python",
   "pygments_lexer": "ipython3",
   "version": "3.7.0"
  }
 },
 "nbformat": 4,
 "nbformat_minor": 2
}
